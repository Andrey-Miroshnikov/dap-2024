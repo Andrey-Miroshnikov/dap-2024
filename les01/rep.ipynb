{
  "nbformat": 4,
  "nbformat_minor": 0,
  "metadata": {
    "colab": {
      "provenance": [],
      "authorship_tag": "ABX9TyNKIETcqtJdAIIENBnhVnsB",
      "include_colab_link": true
    },
    "kernelspec": {
      "name": "python3",
      "display_name": "Python 3"
    },
    "language_info": {
      "name": "python"
    }
  },
  "cells": [
    {
      "cell_type": "markdown",
      "metadata": {
        "id": "view-in-github",
        "colab_type": "text"
      },
      "source": [
        "<a href=\"https://colab.research.google.com/github/Andrey-Miroshnikov/dap-2024/blob/main/les01/rep.ipynb\" target=\"_parent\"><img src=\"https://colab.research.google.com/assets/colab-badge.svg\" alt=\"Open In Colab\"/></a>"
      ]
    },
    {
      "cell_type": "markdown",
      "source": [
        "# Лабораторная работа №1\n",
        "## Подготовка среды для анализа данных\n",
        "\n",
        "**Выполнил:** Мирошников Андрей Евгеньевич  \n",
        "**Группа:** 12002308\n",
        "\n",
        "### Цель работы\n",
        "Освоить базовые инструменты для работы с данными: GitHub и Google Colab, настроить их совместную работу.\n",
        "\n",
        "### Ход работы\n",
        "\n",
        "1.  **Создана учетная запись GitHub**\n",
        "    *   Логин: `Andrey-Miroshnikov`\n",
        "\n",
        "2.  **Выполнен форк репозитория**\n",
        "    *   Исходный репозиторий: [chebotarevsa/dap-2024](https://github.com/chebotarevsa/dap-2024)\n",
        "    *   Форк: [Andrey-Miroshnikov/dap-2024](https://github.com/Andrey-Miroshnikov/dap-2024)\n",
        "\n",
        "3.  **Создана учетная запись Google Colab**\n",
        "    *   Использован аккаунт: `miroshnikov.ae@yandex.ru`\n",
        "\n",
        "4.  **Настроена интеграция Google Colab и GitHub**\n",
        "    *   Выданы необходимые разрешения для связи сервисов.\n",
        "\n",
        "5.  **Создан настоящий отчет** и сохранен в репозиторий по пути `./les01/rep.ipynb`.\n",
        "\n",
        "6.  **Создан Pull Request** в исходный репозиторий.\n",
        "\n",
        "### Вывод\n",
        "В ходе лабораторной работы были успешно освоены основы работы с системами контроля версий Git и GitHub, а также с облачной средой разработки Google Colab. Интеграция этих инструментов настроена."
      ],
      "metadata": {
        "id": "gKM0x3aCkfr7"
      }
    }
  ]
}