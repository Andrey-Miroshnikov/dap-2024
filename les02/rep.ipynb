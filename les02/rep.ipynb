{
  "nbformat": 4,
  "nbformat_minor": 0,
  "metadata": {
    "colab": {
      "provenance": [],
      "authorship_tag": "ABX9TyOYgIfMeByZARbc13QJ3yEo",
      "include_colab_link": true
    },
    "kernelspec": {
      "name": "python3",
      "display_name": "Python 3"
    },
    "language_info": {
      "name": "python"
    }
  },
  "cells": [
    {
      "cell_type": "markdown",
      "metadata": {
        "id": "view-in-github",
        "colab_type": "text"
      },
      "source": [
        "<a href=\"https://colab.research.google.com/github/Andrey-Miroshnikov/dap-2024/blob/main/les02/rep.ipynb\" target=\"_parent\"><img src=\"https://colab.research.google.com/assets/colab-badge.svg\" alt=\"Open In Colab\"/></a>"
      ]
    },
    {
      "cell_type": "markdown",
      "source": [
        "# Лабораторная работа №2\n",
        "## Основы Python\n",
        "\n",
        "**Выполнил:** Мирошников Андрей Евгеньевич  \n",
        "**Группа:** 12002308\n",
        "\n",
        "### Цель работы\n",
        "Освоение основ синтаксиса Python, включая работу с базовыми структурами данных, алгоритмами, функциями и классами, через решение практических задач и изучение ключевых особенностей языка.\n",
        "\n",
        "### Ход работы\n"
      ],
      "metadata": {
        "id": "5sMAJcRtyYSZ"
      }
    },
    {
      "cell_type": "markdown",
      "source": [
        "Задача №1: Two Sum. https://leetcode.com/problems/two-sum/"
      ],
      "metadata": {
        "id": "iRSAhzNJ8crx"
      }
    },
    {
      "cell_type": "code",
      "source": [
        "class Solution(object):\n",
        "    def twoSum(self, nums, target):\n",
        "        \"\"\"\n",
        "        :type nums: List[int]\n",
        "        :type target: int\n",
        "        :rtype: List[int]\n",
        "        \"\"\"\n",
        "        num_map = {}\n",
        "        for i, num in enumerate(nums):\n",
        "            complement = target - num\n",
        "            if complement in num_map:\n",
        "                return [num_map[complement], i]\n",
        "            num_map[num] = i\n",
        "        return []"
      ],
      "metadata": {
        "id": "To3INlIu-1F8"
      },
      "execution_count": null,
      "outputs": []
    },
    {
      "cell_type": "markdown",
      "source": [
        "Результаты тестирования задания №1"
      ],
      "metadata": {
        "id": "i0uP_Fph-39p"
      }
    },
    {
      "cell_type": "code",
      "source": [
        "print(\"Задача 1 - Two Sum:\")\n",
        "solution = Solution()\n",
        "print(solution.twoSum([2, 7, 11, 15], 9))  # [0, 1]\n",
        "print(solution.twoSum([3, 2, 4], 6))       # [1, 2]\n",
        "print(solution.twoSum([3, 3], 6))           # [0, 1]\n",
        "print()"
      ],
      "metadata": {
        "id": "epOU8Zk7-66l"
      },
      "execution_count": null,
      "outputs": []
    },
    {
      "cell_type": "markdown",
      "source": [
        "Задача №2: Palindrome Number. https://leetcode.com/problems/palindrome-number/description/"
      ],
      "metadata": {
        "id": "SoojHf3S_F9B"
      }
    },
    {
      "cell_type": "code",
      "source": [
        "class Solution(object):\n",
        "    def isPalindrome(self, x):\n",
        "        \"\"\"\n",
        "        :type x: int\n",
        "        :rtype: bool\n",
        "        \"\"\"\n",
        "        if x < 0:\n",
        "            return False\n",
        "        original = x\n",
        "        reversed_num = 0\n",
        "        while x > 0:\n",
        "            reversed_num = reversed_num * 10 + x % 10\n",
        "            x //= 10\n",
        "        return original == reversed_num"
      ],
      "metadata": {
        "id": "Ibc5l9MD_Yf7"
      },
      "execution_count": null,
      "outputs": []
    },
    {
      "cell_type": "markdown",
      "source": [
        "Результаты тестирования задания №2"
      ],
      "metadata": {
        "id": "o_wgBfLk_jJK"
      }
    },
    {
      "cell_type": "code",
      "source": [
        "print(\"Задача 2 - Palindrome Number:\")\n",
        "solution = Solution()\n",
        "print(solution.isPalindrome(121))   # True\n",
        "print(solution.isPalindrome(-121))  # False\n",
        "print(solution.isPalindrome(10))    # False\n",
        "print()"
      ],
      "metadata": {
        "id": "yxfd2rDU_mUK"
      },
      "execution_count": null,
      "outputs": []
    },
    {
      "cell_type": "markdown",
      "source": [
        "Задача №3: Roman to Integer. https://leetcode.com/problems/roman-to-integer/description/"
      ],
      "metadata": {
        "id": "enuuuzcz_rpe"
      }
    },
    {
      "cell_type": "code",
      "source": [
        "class Solution(object):\n",
        "    def romanToInt(self, s):\n",
        "        \"\"\"\n",
        "        :type s: str\n",
        "        :rtype: int\n",
        "        \"\"\"\n",
        "        roman_map = {\n",
        "            'I': 1, 'V': 5, 'X': 10, 'L': 50,\n",
        "            'C': 100, 'D': 500, 'M': 1000\n",
        "        }\n",
        "\n",
        "        total = 0\n",
        "        prev_value = 0\n",
        "\n",
        "        for char in reversed(s):\n",
        "            current_value = roman_map[char]\n",
        "            if current_value < prev_value:\n",
        "                total -= current_value\n",
        "            else:\n",
        "                total += current_value\n",
        "            prev_value = current_value\n",
        "\n",
        "        return total"
      ],
      "metadata": {
        "id": "01YJIz5G_0th"
      },
      "execution_count": null,
      "outputs": []
    },
    {
      "cell_type": "markdown",
      "source": [
        "Результаты тестирования задания №3"
      ],
      "metadata": {
        "id": "tt-qj09D_96A"
      }
    },
    {
      "cell_type": "code",
      "source": [
        "print(\"Задача 3 - Roman to Integer:\")\n",
        "solution = Solution()\n",
        "print(solution.romanToInt(\"III\"))      # 3\n",
        "print(solution.romanToInt(\"LVIII\"))    # 58\n",
        "print(solution.romanToInt(\"MCMXCIV\"))  # 1994\n",
        "print()"
      ],
      "metadata": {
        "id": "sajBhITfAASY"
      },
      "execution_count": null,
      "outputs": []
    },
    {
      "cell_type": "markdown",
      "source": [
        "Задача №4: Longest Common Prefix. https://leetcode.com/problems/longest-common-prefix/description/"
      ],
      "metadata": {
        "id": "RDBJSciSACU5"
      }
    },
    {
      "cell_type": "code",
      "source": [
        "class Solution(object):\n",
        "    def longestCommonPrefix(self, strs):\n",
        "        \"\"\"\n",
        "        :type strs: List[str]\n",
        "        :rtype: str\n",
        "        \"\"\"\n",
        "        if not strs:\n",
        "            return \"\"\n",
        "\n",
        "        prefix = strs[0]\n",
        "        for string in strs[1:]:\n",
        "            while string.find(prefix) != 0:\n",
        "                prefix = prefix[:-1]\n",
        "                if not prefix:\n",
        "                    return \"\"\n",
        "        return prefix"
      ],
      "metadata": {
        "id": "2Xpv0wBqATUH"
      },
      "execution_count": null,
      "outputs": []
    },
    {
      "cell_type": "markdown",
      "source": [
        "Результаты тестирования задания №4"
      ],
      "metadata": {
        "id": "8ynbKFn0AWaH"
      }
    },
    {
      "cell_type": "code",
      "source": [
        "print(\"Задача 4 - Longest Common Prefix:\")\n",
        "solution = Solution()\n",
        "print(solution.longestCommonPrefix([\"flower\",\"flow\",\"flight\"]))  # \"fl\"\n",
        "print(solution.longestCommonPrefix([\"dog\",\"racecar\",\"car\"]))     # \"\"\n",
        "print()"
      ],
      "metadata": {
        "id": "rO22GmxZAY6m"
      },
      "execution_count": null,
      "outputs": []
    },
    {
      "cell_type": "markdown",
      "source": [
        "Задача №5: Merge Two Sorted Lists. https://leetcode.com/problems/merge-two-sorted-lists/description/"
      ],
      "metadata": {
        "id": "wVVnKOzPAa_q"
      }
    },
    {
      "cell_type": "code",
      "source": [
        "class ListNode(object):\n",
        "    def __init__(self, val=0, next=None):\n",
        "        self.val = val\n",
        "        self.next = next\n",
        "\n",
        "class Solution(object):\n",
        "    def mergeTwoLists(self, list1, list2):\n",
        "        \"\"\"\n",
        "        :type list1: Optional[ListNode]\n",
        "        :type list2: Optional[ListNode]\n",
        "        :rtype: Optional[ListNode]\n",
        "        \"\"\"\n",
        "        dummy = ListNode()\n",
        "        current = dummy\n",
        "\n",
        "        while list1 and list2:\n",
        "            if list1.val <= list2.val:\n",
        "                current.next = list1\n",
        "                list1 = list1.next\n",
        "            else:\n",
        "                current.next = list2\n",
        "                list2 = list2.next\n",
        "            current = current.next\n",
        "\n",
        "        current.next = list1 if list1 else list2\n",
        "\n",
        "        return dummy.next"
      ],
      "metadata": {
        "id": "vwjmF9eVAlZd"
      },
      "execution_count": null,
      "outputs": []
    },
    {
      "cell_type": "markdown",
      "source": [
        "Результаты тестирования задания №5"
      ],
      "metadata": {
        "id": "dl1u7v4yBCgJ"
      }
    },
    {
      "cell_type": "code",
      "source": [
        "print(\"Задача 5 - Merge Two Sorted Lists:\")\n",
        "solution = Solution()\n",
        "\n",
        "list1 = ListNode(1, ListNode(2, ListNode(4)))\n",
        "list2 = ListNode(1, ListNode(3, ListNode(4)))\n",
        "merged = solution.mergeTwoLists(list1, list2)\n",
        "print(print_list(merged))  # [1, 1, 2, 3, 4, 4]\n",
        "print()"
      ],
      "metadata": {
        "id": "QgUDRJBZBJm6"
      },
      "execution_count": null,
      "outputs": []
    },
    {
      "cell_type": "markdown",
      "source": [
        "Задача №6: Longest Substring Without Repeating Characters. https://leetcode.com/problems/longest-substring-without-repeating-characters/description/"
      ],
      "metadata": {
        "id": "ZQ4q8Jf-By3F"
      }
    },
    {
      "cell_type": "code",
      "source": [
        "class Solution(object):\n",
        "    def lengthOfLongestSubstring(self, s):\n",
        "        \"\"\"\n",
        "        :type s: str\n",
        "        :rtype: int\n",
        "        \"\"\"\n",
        "        char_set = set()\n",
        "        left = 0\n",
        "        max_length = 0\n",
        "\n",
        "        for right in range(len(s)):\n",
        "            while s[right] in char_set:\n",
        "                char_set.remove(s[left])\n",
        "                left += 1\n",
        "            char_set.add(s[right])\n",
        "            max_length = max(max_length, right - left + 1)\n",
        "\n",
        "        return max_length"
      ],
      "metadata": {
        "id": "1YF4BoOtB7d2"
      },
      "execution_count": null,
      "outputs": []
    },
    {
      "cell_type": "markdown",
      "source": [
        "Результаты тестирования задания №6"
      ],
      "metadata": {
        "id": "zJqs333TB_cW"
      }
    },
    {
      "cell_type": "code",
      "source": [
        "print(\"Задача 6 - Longest Substring Without Repeating Characters:\")\n",
        "solution6 = Solution6()\n",
        "print(solution6.lengthOfLongestSubstring(\"abcabcbb\"))  # 3\n",
        "print(solution6.lengthOfLongestSubstring(\"bbbbb\"))     # 1\n",
        "print(solution6.lengthOfLongestSubstring(\"pwwkew\"))    # 3\n",
        "print()"
      ],
      "metadata": {
        "id": "jPsghbH6CDTN"
      },
      "execution_count": null,
      "outputs": []
    },
    {
      "cell_type": "markdown",
      "source": [
        "## Вывод по лабораторной работе №2\n",
        "\n",
        "В ходе выполнения лабораторной работы были успешно решены 6 алгоритмических задач с платформы LeetCode и изучены ключевые особенности языка Python.\n",
        "\n",
        "**Основные достижения:**\n",
        "\n",
        "1. **Практическое освоение синтаксиса Python** - отработаны навыки работы с базовыми конструкциями языка, включая циклы, условия, функции и классы\n",
        "\n",
        "2. **Решение разнообразных алгоритмических задач**:\n",
        "   - Two Sum - работа с хэш-таблицами для оптимизации поиска\n",
        "   - Palindrome Number - алгоритмы работы с числами\n",
        "   - Roman to Integer - парсинг строк и работа со словарями\n",
        "   - Longest Common Prefix - алгоритмы обработки строк\n",
        "   - Merge Two Sorted Lists - работа со связными списками\n",
        "   - Longest Substring - sliding window алгоритм\n",
        "\n",
        "3. **Изучение особенностей Python**:\n",
        "   - Динамическая типизация и её отличия от статической\n",
        "   - Система классов и ООП в Python\n",
        "   - Механизмы обработки исключений\n",
        "   - Работа с функциями (включая лямбда-функции)\n",
        "\n",
        "Полученные знания составляют прочную основу для дальнейшего изучения языка и решения более сложных задач."
      ],
      "metadata": {
        "id": "yivm9KcpCG7T"
      }
    },
    {
      "cell_type": "markdown",
      "source": [
        "##Ответы на теоретические вопросы\n",
        "\n",
        "1. **Что такое динамическая типизация и чем она отличается от статической?**\n",
        "\n",
        "    Динамическая типизация означает, что тип переменной определяется во время выполнения программы, а не на этапе компиляции. В Python переменная может менять тип в процессе выполнения. В статической типизации (C++, Java) тип переменной определяется явно при объявлении и проверяется на этапе компиляции, не может меняться.\n",
        "\n",
        "2. **Чем отличается цикл for в Python от цикла for в С++?**\n",
        "\n",
        "    В Python цикл for является итератором по элементам коллекции (for element in collection), тогда как в C++ это традиционный цикл с счетчиком (for(int i = 0; i < n; i++)). Python for более высокоуровневый и безопасный.\n",
        "\n",
        "3. **Для чего предназначены операторы continue и break?**\n",
        "\n",
        "    Оператор continue пропускает текущую итерацию цикла и переходит к следующей. Оператор break полностью прерывает выполнение цикла.\n",
        "\n",
        "4. **Как определить функцию в python? Может ли функция возвращать несколько значений?**\n",
        "\n",
        "    Функция определяется с помощью ключевого слова def: def function_name(parameters):. Да, функция может возвращать несколько значений через запятую (фактически возвращается кортеж).\n",
        "\n",
        "5. **Что такое лямбда функции и для чего они предназначены?**\n",
        "\n",
        "    Лямбда-функции - это анонимные функции, определяемые с помощью ключевого слова lambda. Они используются для простых однострочных операций: lambda x: x * 2.\n",
        "\n",
        "6. **Может ли тело функции содержать определение другой функции?**\n",
        "\n",
        "    Да, в Python можно определять функции внутри других функций (вложенные функции или closures).\n",
        "\n",
        "7. **Как определить класс в python? Для чего нужна переменная self?**\n",
        "\n",
        "    Класс определяется с помощью class ClassName:. Переменная self - это ссылка на экземпляр класса, используется для доступа к атрибутам и методам объекта.\n",
        "\n",
        "8. **Как определить приватный метод? Можно ли вызвать приватный метод за пределами класса?**\n",
        "\n",
        "    Приватный метод определяется с двойным подчеркиванием: def __private_method(self):. Технически можно вызвать через _ClassName__private_method, но это нарушает инкапсуляцию.\n",
        "\n",
        "9. **Как определить статический метод класса? Для чего может понадобиться статический метод?**\n",
        "\n",
        "    Статический метод определяется с декоратором @staticmethod. Используется для методов, которые не требуют доступа к экземпляру или классу.\n",
        "\n",
        "10. **Чем staticmethod отличается от classmethod?**\n",
        "\n",
        "    @staticmethod не получает неявных аргументов, @classmethod получает класс как первый аргумент (cls). Classmethod может обращаться к атрибутам класса.\n",
        "\n",
        "11. **Как определить собственный класс исключений Python? Как выбросить и перехватить исключение?**\n",
        "\n",
        "    Собственное исключение: class MyException(Exception):. Выбросить: raise MyException(\"message\"). Перехватить: try: ... except MyException as e: ...\n",
        "\n",
        "12. **Что такое кортеж (tuple), для чего он используется?**\n",
        "\n",
        "    Кортеж - это неизменяемая последовательность элементов. Используется для хранения данных, которые не должны изменяться, и для возврата нескольких значений из функции.\n",
        "\n"
      ],
      "metadata": {
        "id": "OPmJukycEhJR"
      }
    }
  ]
}